{
 "cells": [
  {
   "cell_type": "code",
   "execution_count": 1,
   "id": "d1630982",
   "metadata": {},
   "outputs": [
    {
     "name": "stdout",
     "output_type": "stream",
     "text": [
      " * Serving Flask app '__main__'\n",
      " * Debug mode: on\n"
     ]
    },
    {
     "name": "stderr",
     "output_type": "stream",
     "text": [
      "WARNING: This is a development server. Do not use it in a production deployment. Use a production WSGI server instead.\n",
      " * Running on http://127.0.0.1:5000\n",
      "Press CTRL+C to quit\n",
      "127.0.0.1 - - [10/Apr/2023 19:24:40] \"GET / HTTP/1.1\" 200 -\n",
      "127.0.0.1 - - [10/Apr/2023 19:24:40] \"GET /favicon.ico HTTP/1.1\" 404 -\n",
      "127.0.0.1 - - [10/Apr/2023 19:24:47] \"GET /predict HTTP/1.1\" 200 -\n",
      "127.0.0.1 - - [10/Apr/2023 19:25:26] \"POST /predict HTTP/1.1\" 200 -\n"
     ]
    },
    {
     "name": "stdout",
     "output_type": "stream",
     "text": [
      "[28025.24]\n"
     ]
    }
   ],
   "source": [
    "from flask import Flask, render_template, request,app,jsonify,url_for\n",
    "import pickle\n",
    "import numpy as np\n",
    "import pandas as pd\n",
    "from sklearn.preprocessing import normalize\n",
    "\n",
    "\n",
    "app = Flask(__name__)\n",
    "\n",
    "# loding models\n",
    "\n",
    "regression = pickle.load(open('random_forest_regressor.pkl','rb'))\n",
    "preprocess = pickle.load(open('preprocess.pkl','rb'))\n",
    "\n",
    "\n",
    "@app.route('/')\n",
    "def home():\n",
    "    return f\"<h2>This is the home page, Use /predict and fill the details to predict car resale value</h2>\"\n",
    "\n",
    "\n",
    "@app.route('/predict', methods=['GET','POST'])\n",
    "def prediction():\n",
    "    if request.method=='POST':\n",
    "        user_value = dict(request.form)\n",
    "        for k,v in user_value.items():\n",
    "            if k in ['fueltypes','doornumbers','carbody','drivewheels','fuelsystem']:\n",
    "                user_value[k]=[v]\n",
    "            else:\n",
    "                user_value[k]=[int(v)]\n",
    "        df = pd.DataFrame.from_dict(user_value)\n",
    "        process = preprocess.transform(df)\n",
    "        one_d_test = normalize(process)\n",
    "        prediction = regression.predict(one_d_test)\n",
    "        \n",
    "        print(prediction)\n",
    "        return render_template('predict_web.html', pred=prediction)\n",
    "    else:\n",
    "        return render_template('predict_web.html')\n",
    "\n",
    "if __name__ == '__main__':\n",
    "    app.run(debug = True, use_reloader=False)"
   ]
  },
  {
   "cell_type": "code",
   "execution_count": null,
   "id": "8690878e",
   "metadata": {},
   "outputs": [],
   "source": []
  },
  {
   "cell_type": "code",
   "execution_count": null,
   "id": "639760da",
   "metadata": {},
   "outputs": [],
   "source": []
  }
 ],
 "metadata": {
  "kernelspec": {
   "display_name": "torch_env",
   "language": "python",
   "name": "torch_env"
  },
  "language_info": {
   "codemirror_mode": {
    "name": "ipython",
    "version": 3
   },
   "file_extension": ".py",
   "mimetype": "text/x-python",
   "name": "python",
   "nbconvert_exporter": "python",
   "pygments_lexer": "ipython3",
   "version": "3.10.9"
  }
 },
 "nbformat": 4,
 "nbformat_minor": 5
}
